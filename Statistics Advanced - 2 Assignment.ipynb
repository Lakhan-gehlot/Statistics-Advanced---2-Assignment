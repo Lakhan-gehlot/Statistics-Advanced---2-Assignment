{
 "cells": [
  {
   "cell_type": "markdown",
   "id": "ec6fc17c-3529-4681-a271-a2ec7bb5e4c0",
   "metadata": {},
   "source": [
    "Q.1) What is hypothesis testing in statistics?\n"
   ]
  },
  {
   "cell_type": "markdown",
   "id": "a1cb8e7e-028c-4e06-aca7-1e7c7e7fdbfc",
   "metadata": {},
   "source": [
    "Ans:- Hypothesis testing is a statistical procedure to test a claim about a population using sample data, by comparing the null hypothesis (no effect) to an alternative hypothesis (an effect)."
   ]
  },
  {
   "cell_type": "markdown",
   "id": "70c2b64f-4afd-46eb-ad61-8ae0cb3bd627",
   "metadata": {},
   "source": [
    "Q.2) What is the null hypothesis, and how does it differ from the alternative\n",
    "hypothesis?"
   ]
  },
  {
   "cell_type": "markdown",
   "id": "d2d6f580-3a8c-43b5-ae05-18a5c5938ca5",
   "metadata": {},
   "source": [
    "Ans:- \n",
    "Null Hypothesis and Alternative HypothesisThe null hypothesis (H₀) is a statement of no effect, no difference, or no relationship between variables, representing the \"default\" assumption that is presumed true until evidence proves otherwise. The alternative hypothesis (H₁) is a competing claim that states a significant effect, difference, or relationship exists."
   ]
  },
  {
   "cell_type": "markdown",
   "id": "57a06072-ed56-4b27-b514-52b2455c95b7",
   "metadata": {},
   "source": [
    "Q.3) Explain the significance level in hypothesis testing and its role in deciding\n",
    "the outcome of a test."
   ]
  },
  {
   "cell_type": "markdown",
   "id": "341741a8-1c21-48f9-9cbe-6fb8550f0936",
   "metadata": {},
   "source": [
    "Ans:- The significance level (alpha, α) in hypothesis testing is the researcher-set probability of rejecting a true null hypothesis, also known as a Type I error. It serves as the decision threshold: if the p-value from the test is less than α, the null hypothesis is rejected, indicating a statistically significant result; otherwise, it is not rejected. A lower α requires stronger evidence to reject the null hypothesis, while a higher α allows for less evidence but increases the risk of a Type I error."
   ]
  },
  {
   "cell_type": "markdown",
   "id": "8cd2dee4-0af9-468a-9d84-fd501abdd1c3",
   "metadata": {},
   "source": [
    "Q.4) What are Type I and Type II errors? Give examples of each.?"
   ]
  },
  {
   "cell_type": "markdown",
   "id": "b1375551-2beb-44f2-942f-d651f19901cf",
   "metadata": {},
   "source": [
    "Ans:- Type I and Type II errors are mistakes in hypothesis testing. A Type I error is a false positive (incorrectly rejecting a true null hypothesis), like concluding a drug is effective when it's not. A Type II error is a false negative (failing to reject a false null hypothesis), such as failing to identify a drug as effective when it actually is\n",
    "\n",
    "Type I Error (False Positive)\n",
    "Example: A clinical trial finds a new drug is effective, but in reality, the drug has no effect and any perceived improvements were due to random chance or measurement errors. \n",
    "\n",
    "    Type II Error (False Negative)\n",
    "Example: A clinical trial fails to find a significant effect of a drug, even though the drug is actually effective. The study may have failed to detect the effect due to poor design or a small sample size. "
   ]
  },
  {
   "cell_type": "markdown",
   "id": "257889ec-a5dd-4521-b6a9-2ed298ed1f9c",
   "metadata": {},
   "source": [
    "Q.5) What is the difference between a Z-test and a T-test? Explain when to use\n",
    "each."
   ]
  },
  {
   "cell_type": "markdown",
   "id": "fc6aab48-43fa-487b-9548-047ce6279752",
   "metadata": {},
   "source": [
    "Ans:- A Z-test is used when the population standard deviation is known and the sample size is large (typically 30 or more). \n",
    "    \n",
    "    A T-test is used when the population standard deviation is unknown and you are working with a small sample size (typically less than 30)\n",
    "\n",
    "you should use a Z-test when:\n",
    "Population standard deviation (σ) is known:\n",
    "You have complete information about the variability of the population you are comparing your sample to. \n",
    "Sample size is large:\n",
    "Your sample size is 30 or greater. \n",
    "Data is normally distributed\n",
    "(or the sample is large enough that the sampling distribution of the mean is approximately normal). \n",
    "When to Use a T-Test\n",
    "You should use a T-test when:\n",
    "Population standard deviation (σ) is unknown:\n",
    "You must estimate the standard deviation from your sample data. \n",
    "Sample size is small:\n",
    "Your sample size is typically less than 30. \n",
    "Data is normally distributed:\n",
    "The data within your sample follows a normal or near-normal distribution. \n",
    "Key Differences Summarized\n",
    "| Feature | Z-Test | T-Test |\n",
    "| :--- | :--- | :--- |\n",
    "| Population Standard Deviation| Known | Unknown |\n",
    "| Sample Size | Large (n ≥ 30) | Small (n < 30) |\n",
    "| Purpose | Compares a sample mean to a known population mean | Compares sample means to each other or to a hypothesized value | "
   ]
  },
  {
   "cell_type": "markdown",
   "id": "3eb0ebc3-f307-4269-ba69-622ea4c5ae19",
   "metadata": {},
   "source": [
    "Q.6) Write a Python program to generate a binomial distribution with n=10 and\n",
    "p=0.5, then plot its histogram.\n"
   ]
  },
  {
   "cell_type": "code",
   "execution_count": 13,
   "id": "0670856f-2f20-4345-b1d7-9748342629e2",
   "metadata": {},
   "outputs": [],
   "source": [
    "import numpy as np\n",
    "import matplotlib.pyplot as plt"
   ]
  },
  {
   "cell_type": "code",
   "execution_count": 14,
   "id": "dd277f52-d7bc-4cac-9577-ebb39e555c3a",
   "metadata": {},
   "outputs": [],
   "source": [
    "\n",
    "# Define the parameters for the binomial distribution\n",
    "n = 10  # Number of trials\n",
    "p = 0.5 # Probability of success in each trial\n",
    "size = 1000 # Number of samples to generate\n",
    "\n",
    "\n",
    "\n",
    "\n"
   ]
  },
  {
   "cell_type": "code",
   "execution_count": 15,
   "id": "c0fd4351-dc74-41ab-a819-8048204042b0",
   "metadata": {},
   "outputs": [],
   "source": [
    "\n",
    "# Generate random samples from a binomial distribution\n",
    "binomial_samples = np.random.binomial(n, p, size)"
   ]
  },
  {
   "cell_type": "code",
   "execution_count": 11,
   "id": "fab8d2fd-f3a2-4b53-8bc2-bde6566930b3",
   "metadata": {},
   "outputs": [
    {
     "data": {
      "image/png": "[encoded data removed]",
      "text/plain": [
       "<Figure size 640x480 with 1 Axes>"
      ]
     },
     "metadata": {},
     "output_type": "display_data"
    }
   ],
   "source": [
    "\n",
    "\n",
    "\n",
    "# Plot the histogram of the generated samples\n",
    "plt.hist(binomial_samples, bins=np.arange(-0.5, n + 1.5, 1), edgecolor='black', alpha=0.7)\n",
    "\n",
    "# Add labels and title for clarity\n",
    "plt.title(f'Histogram of Binomial Distribution (n={n}, p={p})')\n",
    "plt.xlabel('Number of Successes')\n",
    "plt.ylabel('Frequency')\n",
    "plt.xticks(np.arange(0, n + 1, 1)) # Ensure integer ticks on x-axis\n",
    "plt.grid(axis='y', alpha=0.75)\n",
    "\n",
    "# Display the plot\n",
    "plt.show()"
   ]
  },
  {
   "cell_type": "code",
   "execution_count": null,
   "id": "c402a0ba-4656-46da-ae78-4d8c009706ee",
   "metadata": {},
   "outputs": [],
   "source": [
    "Q.7) Implement hypothesis testing using Z-statistics for a sample dataset in\n",
    "Python. Show the Python code and interpret the results.\n",
    "sample_data = [49.1, 50.2, 51.0, 48.7, 50.5, 49.8, 50.3, 50.7, 50.2, 49.6,\n",
    "50.1, 49.9, 50.8, 50.4, 48.9, 50.6, 50.0, 49.7, 50.2, 49.5,\n",
    "50.1, 50.3, 50.4, 50.5, 50.0, 50.7, 49.3, 49.8, 50.2, 50.9,\n",
    "50.3, 50.4, 50.0, 49.7, 50.5, 49.9]"
   ]
  },
  {
   "cell_type": "code",
   "execution_count": 16,
   "id": "5408f085-503d-479f-ba51-6f0feab88b8f",
   "metadata": {},
   "outputs": [
    {
     "name": "stdout",
     "output_type": "stream",
     "text": [
      "Sample Mean: 50.0889\n",
      "Z-statistic: 1.0667\n",
      "P-value: 0.2861\n",
      "Fail to reject the null hypothesis.\n"
     ]
    }
   ],
   "source": [
    "import numpy as np\n",
    "from scipy.stats import norm\n",
    "\n",
    "# Sample data\n",
    "sample_data = [49.1, 50.2, 51.0, 48.7, 50.5, 49.8, 50.3, 50.7, 50.2, 49.6,\n",
    "               50.1, 49.9, 50.8, 50.4, 48.9, 50.6, 50.0, 49.7, 50.2, 49.5,\n",
    "               50.1, 50.3, 50.4, 50.5, 50.0, 50.7, 49.3, 49.8, 50.2, 50.9,\n",
    "               50.3, 50.4, 50.0, 49.7, 50.5, 49.9]\n",
    "\n",
    "# Parameters\n",
    "mu_0 = 50  # Hypothesized population mean\n",
    "sigma = 0.5  # Assumed population standard deviation\n",
    "n = len(sample_data)\n",
    "sample_mean = np.mean(sample_data)\n",
    "\n",
    "# Z-statistic\n",
    "z = (sample_mean - mu_0) / (sigma / np.sqrt(n))\n",
    "\n",
    "# Two-tailed p-value\n",
    "p_value = 2 * (1 - norm.cdf(abs(z)))\n",
    "\n",
    "# Output results\n",
    "print(f\"Sample Mean: {sample_mean:.4f}\")\n",
    "print(f\"Z-statistic: {z:.4f}\")\n",
    "print(f\"P-value: {p_value:.4f}\")\n",
    "\n",
    "# Decision\n",
    "if p_value < 0.05:\n",
    "    print(\"Reject the null hypothesis.\")\n",
    "else:\n",
    "    print(\"Fail to reject the null hypothesis.\")"
   ]
  },
  {
   "cell_type": "markdown",
   "id": "6caa95a2-14fb-4a51-a991-9d9d0112f78d",
   "metadata": {},
   "source": [
    "Q.8) Write a Python script to simulate data from a normal distribution and\n",
    "calculate the 95% confidence interval for its mean. Plot the data using Matplotlib."
   ]
  },
  {
   "cell_type": "code",
   "execution_count": 19,
   "id": "3202d170-ee1a-49b8-825b-90a1e9b19bd0",
   "metadata": {},
   "outputs": [
    {
     "name": "stdout",
     "output_type": "stream",
     "text": [
      "Sample Mean: 99.39\n",
      "95% Confidence Interval: (97.44, 101.34)\n"
     ]
    },
    {
     "data": {
      "image/png": "[encoded data removed]",
      "text/plain": [
       "<Figure size 1000x600 with 1 Axes>"
      ]
     },
     "metadata": {},
     "output_type": "display_data"
    }
   ],
   "source": [
    "import numpy as np\n",
    "import matplotlib.pyplot as plt\n",
    "from scipy import stats\n",
    "\n",
    "\n",
    "# Step 1: Simulate data\n",
    "np.random.seed(42)  # For reproducibility\n",
    "mu = 100            # True mean\n",
    "sigma = 15          # True standard deviation\n",
    "n = 200             # Sample size\n",
    "\n",
    "data = np.random.normal(mu, sigma, n)\n",
    "\n",
    "# Step 2: Calculate 95% confidence interval\n",
    "sample_mean = np.mean(data)\n",
    "sample_std = np.std(data, ddof=1)\n",
    "confidence_level = 0.95\n",
    "alpha = 1 - confidence_level\n",
    "\n",
    "# Standard error\n",
    "se = sample_std / np.sqrt(n)\n",
    "\n",
    "# Critical value from t-distribution\n",
    "t_crit = stats.t.ppf(1 - alpha/2, df=n-1)\n",
    "\n",
    "# Confidence interval\n",
    "ci_lower = sample_mean - t_crit * se\n",
    "ci_upper = sample_mean + t_crit * se\n",
    "\n",
    "print(f\"Sample Mean: {sample_mean:.2f}\")\n",
    "print(f\"95% Confidence Interval: ({ci_lower:.2f}, {ci_upper:.2f})\")\n",
    "\n",
    "# Step 3: Plot the data\n",
    "plt.figure(figsize=(10, 6))\n",
    "plt.hist(data, bins=30, color='skyblue', edgecolor='black', alpha=0.7)\n",
    "plt.axvline(sample_mean, color='red', linestyle='--', label='Sample Mean')\n",
    "plt.axvline(ci_lower, color='green', linestyle='--', label='95% CI Lower')\n",
    "plt.axvline(ci_upper, color='green', linestyle='--', label='95% CI Upper')\n",
    "plt.title('Simulated Normal Distribution with 95% Confidence Interval')\n",
    "plt.xlabel('Value')\n",
    "plt.ylabel('Frequency')\n",
    "plt.legend()\n",
    "plt.grid(True)\n",
    "plt.tight_layout()\n",
    "plt.show()"
   ]
  },
  {
   "cell_type": "markdown",
   "id": "e66bf7ff-0be9-4f48-b47f-811847c6ecdb",
   "metadata": {},
   "source": [
    "Q.9) Write a Python function to calculate the Z-scores from a dataset and\n",
    "visualize the standardized data using a histogram. Explain what the Z-scores represent\n",
    "in terms of standard deviations from the mean."
   ]
  },
  {
   "cell_type": "code",
   "execution_count": 22,
   "id": "5a811ba6-e454-4d80-b70a-687415f2a155",
   "metadata": {},
   "outputs": [],
   "source": [
    "import numpy as np\n",
    "import matplotlib.pyplot as plt\n",
    "\n",
    "def calculate_and_plot_z_scores(data):\n",
    "    # Step 1: Calculate mean and standard deviation\n",
    "    mean = np.mean(data)\n",
    "    std_dev = np.std(data)\n",
    "\n",
    "    # Step 2: Calculate Z-scores\n",
    "    z_scores = [(x - mean) / std_dev for x in data]\n",
    "\n",
    "    # Step 3: Plot histogram of Z-scores\n",
    "    plt.figure(figsize=(10, 6))\n",
    "    plt.hist(z_scores, bins=20, color='steelblue', edgecolor='black', alpha=0.7)\n",
    "    plt.axvline(0, color='red', linestyle='--', label='Mean (Z=0)')\n",
    "    plt.title('Histogram of Z-Scores')\n",
    "    plt.xlabel('Z-Score')\n",
    "    plt.ylabel('Frequency')\n",
    "    plt.legend()\n",
    "    plt.grid(True)\n",
    "    plt.tight_layout()\n",
    "    plt.show()\n",
    "\n",
    "    return z_scores\n",
    "\n"
   ]
  },
  {
   "cell_type": "code",
   "execution_count": null,
   "id": "01ab3606-61ad-4e62-ad7e-a0e0e10ff73c",
   "metadata": {},
   "outputs": [],
   "source": []
  }
 ],
 "metadata": {
  "kernelspec": {
   "display_name": "Python 3 (ipykernel)",
   "language": "python",
   "name": "python3"
  },
  "language_info": {
   "codemirror_mode": {
    "name": "ipython",
    "version": 3
   },
   "file_extension": ".py",
   "mimetype": "text/x-python",
   "name": "python",
   "nbconvert_exporter": "python",
   "pygments_lexer": "ipython3",
   "version": "3.13.5"
  }
 },
 "nbformat": 4,
 "nbformat_minor": 5
}
